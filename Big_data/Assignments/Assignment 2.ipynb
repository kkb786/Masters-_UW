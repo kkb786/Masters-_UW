{
 "cells": [
  {
   "cell_type": "markdown",
   "metadata": {},
   "source": [
    "## CS431/631 Data Intensive Distributed Analytics\n",
    "### Winter 2020 - Assignment 2\n",
    "---"
   ]
  },
  {
   "cell_type": "markdown",
   "metadata": {},
   "source": [
    "**Please edit this (text) cell to provide your name and UW student ID number!**\n",
    "* **Name:** _Kamran Karim_\n",
    "* **ID:** _20594936_"
   ]
  },
  {
   "cell_type": "markdown",
   "metadata": {},
   "source": [
    "---\n",
    "#### Overview\n",
    "For this assignment, you will be using Python and Spark to analyze the [pointwise mutual information (PMI)](http://en.wikipedia.org/wiki/Pointwise_mutual_information) of tokens in the text of Shakespeare's plays.    For this assignment, you will need the same text file (`Shakespeare.txt`) and Python tokenizer module, `simple_tokenize.py`, that you used for the first two assignments.    You will also use the same definition of PMI that was used for [Assignment 1](https://www.student.cs.uwaterloo.ca/~cs451/assignment1-431.html).\n",
    "\n",
    "To use Spark from within a Python program, it is first necessary to tell the Python interpreter where the Spark installation is located.   You will be using the Spark installation in the CS451 course account.   The code in the following cell tells Python how to find this Spark installation.   Before going on, execute that code (by selecting the cell and hitting 'return' while holding down the shift key).   It will take a few seconds to run, and will produce no output."
   ]
  },
  {
   "cell_type": "code",
   "execution_count": 23,
   "metadata": {},
   "outputs": [],
   "source": [
    "import findspark\n",
    "findspark.init(\"/u/cs451/packages/spark\")\n",
    "\n",
    "from pyspark import SparkContext, SparkConf"
   ]
  },
  {
   "cell_type": "markdown",
   "metadata": {},
   "source": [
    "Once Python knows where Spark is located, you can create a `SparkContext`.   All Spark commands must run within an active `SparkContext`.   The code below will create a `SparkContext`, and store a reference to the context in the variable `sc`. \n",
    "The `appName` parameter assigns a name of your choosing to the Spark jobs that are created in this context - this is useful mostly for debugging.   The `master` parameter indicates that Spark jobs will run in local mode, using two threads.   This means that your Spark jobs are not really running on a cluster (since we do not have a Spark cluster in the CS student computing environment), and are instead running in a single process on the local machine.   You program Spark jobs the same way whether they run in local mode or on a cluster - the main difference between local and cluster modes is, of course, performance.\n",
    "\n",
    "Run the code in the cell below to create a Spark context.   Creating the `SparkContext` causes your Python program (running in this notebook) to prepare to run Spark jobs, and will take a few seconds to complete.  Be sure that you run this code only one time, because a single Python program may only have one active SparkContext."
   ]
  },
  {
   "cell_type": "code",
   "execution_count": null,
   "metadata": {},
   "outputs": [],
   "source": [
    "sc = SparkContext(appName=\"YourTest\", master=\"local[2]\")"
   ]
  },
  {
   "cell_type": "markdown",
   "metadata": {},
   "source": [
    "Next, let's test that your `SparkContext` has been set up properly by running some simple test code (adapted from the [Spark examples page](https://spark.apache.org/examples.html)).   This code uses a single Spark job to estimate the value of $\\pi$.  `parallelize()` and `filter()` are Spark *transformations*, and `count()` is a Spark *action*.   Study the code in the cell below, then go ahead and run it.   It should take a few seconds, since a Spark job is being created and executed, and should print an estimate of $\\pi$ when it finishes.   "
   ]
  },
  {
   "cell_type": "code",
   "execution_count": 200,
   "metadata": {},
   "outputs": [
    {
     "name": "stdout",
     "output_type": "stream",
     "text": [
      "3.14170616\n"
     ]
    }
   ],
   "source": [
    "import random\n",
    "\n",
    "num_samples = 100000000\n",
    "\n",
    "def inside(p):     \n",
    "  x, y = random.random(), random.random()\n",
    "  return x*x + y*y < 1\n",
    "\n",
    "count = sc.parallelize(range(0, num_samples)).filter(inside).count()\n",
    "\n",
    "pi_estimate = 4 * count / num_samples\n",
    "print(pi_estimate)"
   ]
  },
  {
   "cell_type": "markdown",
   "metadata": {},
   "source": [
    "---\n",
    "#### Question 1  (4/30 marks):\n",
    "\n",
    "In the following cell, briefly explain how the $\\pi$-estimation example works.   What is the Spark job doing, and how is it used to estimate the value of $\\pi$?"
   ]
  },
  {
   "cell_type": "markdown",
   "metadata": {},
   "source": [
    "#### Your answer to Question 1:\n",
    "\n",
    "The pi estimation is a simple function that is multiplying the quantity count by a constant 4 and divide the whole multiple by a constant represented with the symbol num_samples (or one can say the division happens first and than the multiplication happens, but it does not change the final answer). \n",
    "Spark is involved with calculating the quantity count. \n",
    "\n",
    "Firstly, a range function creates an array of integers taking values from 0 to (num_samples-1). Then this array is parallelized (converterd to an RDD), i.e. it allows the spark to distribute the array across multiple nodes using the function \"sc.parallelize\". After converting the array into an RDD, a filter is applied on this RDD, where the function defined earlier is used. This function takes a dummy input that is the member of the RDD, and generates two random numbers uniformly from between the interval [0,1], and checks if the sum of squares of these two numbers is less than 1 or not. If it is smaller than 1 than the filter keeps the value from RDD, otherwise it discards it. After completing the implementation of this filter, we have a new RDD, and the function \".count()\" is applied on it to see how many elements does it have. and finally, this number is the value for the variable count, that we referred earlier."
   ]
  },
  {
   "cell_type": "markdown",
   "metadata": {},
   "source": [
    "---\n",
    "### Important\n",
    "\n",
    "###### The questions that follow ask you to implement functions whose prototypes are given to you. Do **NOT** change the prototypes of the functions. Do **NOT** write code outside of the functions. All necessary code should be included in the function body (except for import statements). You may declare functions inside of the function body. When marking, we will execute your code by calling the functions from an external program, which is why your code cannot rely on statements running outside functions. Please remove any call to the functions that you may have introduced for test purposes before submitting your notebook.\n"
   ]
  },
  {
   "cell_type": "markdown",
   "metadata": {},
   "source": [
    "---\n",
    "#### Question 2  (4/30 marks):\n",
    "\n",
    "Now it is your turn to write some Spark programs. Start with the simple task of counting the number of *distinct* tokens which appear in `Shakespeare.txt`.   You have already written Python code to do this in Assignment 1, but for this assignment we want you to use Spark to solve the same problem.   You should compare the answer you get using Spark with the answer you got from your pure-Python solution from Assignment 1.   Both answers should, of course, be the same.\n",
    "\n",
    "Your code should use Spark, not the Python driver code, to read `Shakespeare.txt` and do the counting.   The idea is to use Spark to give you a data-parallel alternative to the sequential Python solution you wrote for Assignment 1.\n",
    "\n",
    "Write your solution for question 2 in the code cell below, by implementing the `count_distinct_tokens` function. It should use the `SparkContext` which was created previously (referenced by the variable `sc`). The function `count_distinct_tokens` must return the number of distinct tokens."
   ]
  },
  {
   "cell_type": "code",
   "execution_count": 201,
   "metadata": {},
   "outputs": [],
   "source": [
    "#from simple_tokenize import simple_tokenize\n",
    "lines = sc.textFile(\"Shakespeare.txt\")\n",
    "words = lines.flatMap(simple_tokenize).cache()\n",
    "# Returns the count of distinct tokens in the `Shakespeare.txt` dataset\n",
    "def count_distinct_tokens(list = words):\n",
    "    d = list.map(lambda x:(x,1)).reduceByKey(lambda x,y:x+y)\n",
    "    count =  d.count()\n",
    "    return count\n",
    "    # your solution to Question 2 here\n",
    "    "
   ]
  },
  {
   "cell_type": "code",
   "execution_count": 202,
   "metadata": {},
   "outputs": [
    {
     "data": {
      "text/plain": [
       "25975"
      ]
     },
     "execution_count": 202,
     "metadata": {},
     "output_type": "execute_result"
    }
   ],
   "source": [
    "count_distinct_tokens()"
   ]
  },
  {
   "cell_type": "markdown",
   "metadata": {},
   "source": [
    "---\n",
    "#### Question 3  (4/30 marks):\n",
    "\n",
    "Next, write a Spark program that will count the number of distinct token pairs in `Shakespeare.txt`, as you did in Assignment 1. Again, ensure that the answer that you get using Spark matches the answer you got in the first assignment.\n",
    "\n",
    "Write your solution for question 3 by implementing the `count_distinct_pairs` function in the code cell below.   It should use the `SparkContext` which was created previously (referenced by the variable `sc`). The function `count_distinct_pairs` must return the number of distinct token pairs."
   ]
  },
  {
   "cell_type": "code",
   "execution_count": 203,
   "metadata": {},
   "outputs": [],
   "source": [
    "def pair(s):\n",
    "    a= simple_tokenize(s)\n",
    "    l = list()\n",
    "    for i in a:\n",
    "        for j in a:\n",
    "            if j != i:\n",
    "                if ((i,j),1) not in l:\n",
    "                    l.append(((i,j),1))\n",
    "    return l\n",
    "\n",
    "\n",
    "# Returns the count of distinct pairs in the `Shakespeare.txt` dataset\n",
    "def count_distinct_pairs():\n",
    "    d= sc.textFile(\"Shakespeare.txt\").flatMap(pair).reduceByKey(lambda x,y:x+y)\n",
    "    \n",
    "    return d.count()\n",
    "    \n",
    "    # your solution to Question 3 here\n"
   ]
  },
  {
   "cell_type": "code",
   "execution_count": 204,
   "metadata": {},
   "outputs": [
    {
     "data": {
      "text/plain": [
       "1969760"
      ]
     },
     "execution_count": 204,
     "metadata": {},
     "output_type": "execute_result"
    }
   ],
   "source": [
    "count_distinct_pairs()\n"
   ]
  },
  {
   "cell_type": "markdown",
   "metadata": {},
   "source": [
    "---\n",
    "#### Question 4  (6/30 marks):\n",
    "\n",
    "Next, write Spark code that will calculate the probability $p(x)$ (as defined in Assignment 1) for every distinct token $x$ in `Shakespeare.txt`.   Your function should return the 50 highest-probability tokens, and their counts and probabilities.\n",
    "\n",
    "Make sure that your solution calculates probabilities and identifies the 50 highest-probability tokens in a data-parallel fashion, using Spark transformations and actions.   Only the 50 highest-probability tokens (and their counts and probabilities) should be returned by Spark to your driver code.\n",
    "\n",
    "Write your solution for question 4 by implementing the `top_50_tokens_probabilities` function in the code cell below. It should use the `SparkContext` which was created previously (referenced by the variable `sc`). The function `top_50_tokens_probabilities` must return a list of 50 (probability, count, token) tuples, ordered by probability, that is, the list returned by the function should be of the form: `[(proba1, count1, token1), (proba2, count2, token2), ..., (proba50, count50, token50)]`"
   ]
  },
  {
   "cell_type": "code",
   "execution_count": 205,
   "metadata": {},
   "outputs": [],
   "source": [
    "from simple_tokenize import simple_tokenize\n",
    "\n",
    "\n",
    "def n_line(s):\n",
    "    a= simple_tokenize(s)\n",
    "    l = list()\n",
    "    for i in a:\n",
    "        if (i,1) not in l:\n",
    "            l.append((i,1))\n",
    "    return l\n",
    "# Returns a list of the top 50 (probability, count, token) tuples, ordered by probability\n",
    "def top_50_tokens_probabilities():\n",
    "    \n",
    "    tot = sc.textFile(\"Shakespeare.txt\").count()\n",
    "    d = sc.textFile(\"Shakespeare.txt\").flatMap(n_line).reduceByKey(lambda x,y:x+y)\n",
    "    d = d.map(lambda x: ((x[1], x[0]), x[1]/tot)).sortByKey(False).map(lambda x: (x[1], x[0][0], x[0][1])) \n",
    "    return d.take(50)\n",
    "    # your solution to Question 4 here    \n"
   ]
  },
  {
   "cell_type": "code",
   "execution_count": 206,
   "metadata": {},
   "outputs": [
    {
     "data": {
      "text/plain": [
       "[(0.2009178657172255, 24604, 'and'),\n",
       " (0.19843538192686472, 24300, 'the'),\n",
       " (0.1523542765682928, 18657, 'i'),\n",
       " (0.148924529226347, 18237, 'to'),\n",
       " (0.1357526662202551, 16624, 'of'),\n",
       " (0.10844534452628657, 13280, 'a'),\n",
       " (0.09959332995802643, 12196, 'you'),\n",
       " (0.09430988583840991, 11549, 'my'),\n",
       " (0.08667461497003054, 10614, 'in'),\n",
       " (0.08630714204053634, 10569, 'that'),\n",
       " (0.07150206601447026, 8756, 'is'),\n",
       " (0.06720671577193814, 8230, 'not'),\n",
       " (0.06167012363422561, 7552, 'with'),\n",
       " (0.06039621747864574, 7396, 'me'),\n",
       " (0.05982459292165477, 7326, 'for'),\n",
       " (0.05836286726877787, 7147, 'it'),\n",
       " (0.054402325695340446, 6662, 'be'),\n",
       " (0.05246696826667102, 6425, 'this'),\n",
       " (0.05228731483447386, 6403, 'his'),\n",
       " (0.050899083767495794, 6233, 'your'),\n",
       " (0.05067043394469941, 6205, 'but'),\n",
       " (0.0474938346208496, 5816, 'he'),\n",
       " (0.046889545803459144, 5742, 'have'),\n",
       " (0.04132028940534714, 5060, 'thou'),\n",
       " (0.04015254209606559, 4917, 'as'),\n",
       " (0.03952375508337552, 4840, 'him'),\n",
       " (0.03949109082297604, 4836, 'so'),\n",
       " (0.039450260497476686, 4831, 'will'),\n",
       " (0.03515491025494455, 4305, 'what'),\n",
       " (0.031227032941906614, 3824, 'all'),\n",
       " (0.030630910189616032, 3751, 'thy'),\n",
       " (0.029716310898430482, 3639, 'by'),\n",
       " (0.02961015205213216, 3626, 'do'),\n",
       " (0.028981365039442094, 3549, 'no'),\n",
       " (0.028858874062944028, 3534, 'shall'),\n",
       " (0.02820558885495435, 3454, 'her'),\n",
       " (0.028164758529454995, 3449, 'if'),\n",
       " (0.026915350569174736, 3296, 'are'),\n",
       " (0.0255189534370968, 3125, 'we'),\n",
       " (0.024890166424406734, 3048, 'thee'),\n",
       " (0.024294043672116156, 2975, 'on'),\n",
       " (0.024032729588920283, 2943, 'lord'),\n",
       " (0.023599928138627123, 2890, 'our'),\n",
       " (0.022946642930637442, 2810, 'king'),\n",
       " (0.022268859527348153, 2727, 'good'),\n",
       " (0.02224436133204854, 2724, 'now'),\n",
       " (0.021468585147560795, 2629, 'sir'),\n",
       " (0.021190938934165182, 2595, 'from'),\n",
       " (0.02067647683287331, 2532, 'o'),\n",
       " (0.020096686210782474, 2461, 'at')]"
      ]
     },
     "execution_count": 206,
     "metadata": {},
     "output_type": "execute_result"
    }
   ],
   "source": [
    "top_50_tokens_probabilities()"
   ]
  },
  {
   "cell_type": "markdown",
   "metadata": {},
   "source": [
    "---\n",
    "#### Question 5  (6/30 marks):\n",
    "\n",
    "Next, write the code for the function `PMI` that will take a positive integer threshold $T$ as an argument, and then return all token pairs that co-occur at least $T$ times in `Shakespeare.txt`.   For each such pair $(x,y)$, the function should also return PMI$(x,y)$, the co-occurrence count of the pair, the number of times $x$ appears, and the number of times $y$ appears. You can compare the results produced by this code with the results of Two-Token queries (from Assignment 1) for consistency.\n",
    "\n",
    "Write your solution for question 5 by implementing the function `PMI` in the code cell below. It should use the `SparkContext` which was created previously (referenced by the variable `sc`). The function `PMI` should return a list of ((token1, token2), pmi, co-occurrence_count, token1_count, token2_count) tuples, that is, the list returned by the function should be of the form: `[((token1, token2), pmi, cooc_count, token1_count, token2_count), (...), ((other_token1, other_token2), other_pmi, other_cooc_count, other_token1_count, other_token2_count)]`.\n",
    "\n",
    "\n",
    "As always, calculations should be done in data-parallel fashion by using Spark."
   ]
  },
  {
   "cell_type": "markdown",
   "metadata": {},
   "source": [
    "Note: the definition of PMI is taken as \n",
    "\\begin{equation*}\n",
    "PMI(x,y) = \\log\\frac{p(x,y)}{p(x)p(y)}\n",
    "\\end{equation*}\n",
    "where $p(x,y) = \\frac{c(x,y)}{N} $ and $p(x) = \\frac{c(x)}{N}$ where $c(x)$ is the number of lines x is seen, similarly $c(x,y)$ is the number of lines x and y co-occur on one line, and finally N is the total number of lines in that document. "
   ]
  },
  {
   "cell_type": "code",
   "execution_count": 207,
   "metadata": {},
   "outputs": [],
   "source": [
    "from simple_tokenize import simple_tokenize\n",
    "from math import log\n",
    "\n",
    "# Returns a list of tuples with the following format:\n",
    "# ((token1, token2), pmi, co-occurrence_count, token1_count, token2_count)\n",
    "\n",
    "def PMI(T):\n",
    "    tot = sc.textFile(\"Shakespeare.txt\").count()\n",
    "    a0 = sc.textFile(\"Shakespeare.txt\").flatMap(n_line).reduceByKey(lambda x,y:x+y).filter(lambda x: x[1]>T)\n",
    "    a1 = sc.textFile(\"Shakespeare.txt\").flatMap(pair).reduceByKey(lambda x,y:x+y).filter(lambda x: x[1]>T).map(lambda x: (x[0][0], (x[0][1], x[1])))\n",
    "    a2 = a1.join(a0)\n",
    "    a3 = a2.map(lambda x: (x[1][0][0], ((x[0], x[1][0][1]),x[1][1]) ))\n",
    "    a4 = a3.join(a0)\n",
    "    a = a4.map(lambda x: ((x[0], x[1][0][0][0]), log(((x[1][0][0][1] *tot)/(x[1][1]*x[1][0][1])), 10) , x[1][0][0][1], x[1][1],x[1][0][1]))\n",
    "\n",
    "    return a.collect()\n",
    "              \n",
    "    # your solution to Question 5 here\n"
   ]
  },
  {
   "cell_type": "code",
   "execution_count": 208,
   "metadata": {},
   "outputs": [
    {
     "data": {
      "text/plain": [
       "[(('of', 'the'), 0.34294075191889306, 7266, 16624, 24300),\n",
       " (('and', 'the'), 0.0459349918330654, 5427, 24604, 24300),\n",
       " (('to', 'the'), 0.05123525982989819, 4072, 18237, 24300),\n",
       " (('the', 'of'), 0.34294075191889306, 7266, 24300, 16624),\n",
       " (('the', 'and'), 0.0459349918330654, 5427, 24300, 24604),\n",
       " (('the', 'to'), 0.05123525982989819, 4072, 24300, 18237)]"
      ]
     },
     "execution_count": 208,
     "metadata": {},
     "output_type": "execute_result"
    }
   ],
   "source": [
    "#test code here#\n",
    "#PMI(4000)\n"
   ]
  },
  {
   "cell_type": "markdown",
   "metadata": {},
   "source": [
    "#### Question 6  (6/30 marks):\n",
    "\n",
    "Finally, write Spark code for the function `PMI_one_token`, that will take a positive integer threshold $T$ and a sample size $N$ as arguments. For every token $x$ in `Shakespeare.txt`, your code should find all tokens $y$ that co-occur with $x$ at least $T$ times, as well as PMI$(x,y)$ for each such pair, the co-occurrence count of the pair, the number of times $x$ appears, and the number of times $y$ appears.\n",
    "\n",
    "For each $x$, the output of your program should be equivalent to the output that would be produced by a One-Token query on $x$ (see Assignment 1), with threshold $T$. Rather than producing output for all possible tokens $x$, the function should produce output only for $N$ different $x$'s, chosen at random from among all distinct tokens in the input file.\n",
    "\n",
    "Write your solution for question 6 by implementing the function `PMI_one_token` in the code cell below. It should use the `SparkContext` which was created previously (referenced by the variable `sc`). The function `PMI_one_token` should return a list of $N$ tuples of the form `(token, [ list_of_cooccurring_tokens ])`, where each entry in `list_of_cooccurring_tokens` is of the form `((token1, token2), pmi, cooc_count, token1_count, token2_count)`.\n",
    "\n",
    "For instance, if $N$ = 2 and the randomly selected tokens are \"if\" and \"you\", a valid format for the value returned by `PMI_one_token` would be:\n",
    "```\n",
    "[('if', [(('if', 'you'), -0.09813466615111513, 1975, 16624, 18237), (('if', 'a'), 0.03856379243802408, 1568, 16624, 10569)]), ('you', [(('you', 'if'), -0.09813466615111513, 1975, 18237, 16624)])]\n",
    "```\n"
   ]
  },
  {
   "cell_type": "code",
   "execution_count": 212,
   "metadata": {},
   "outputs": [],
   "source": [
    "from simple_tokenize import simple_tokenize\n",
    "from math import log\n",
    "import numpy\n",
    "\n",
    "\n",
    "#takeSample(self, withReplacement, num, seed=None)\n",
    "\n",
    "\n",
    "\n",
    "# Returns a list of samp_size tuples with the following format:\n",
    "# (token, [ list_of_cooccurring_tokens ])\n",
    "# where list_of_cooccurring_tokens is of the form\n",
    "# [((token1, token2), pmi, cooc_count, token1_count, token2_count), ...]\n",
    "def PMI_one_token(T, samp_size):\n",
    "    a0 = sc.textFile(\"Shakespeare.txt\").flatMap(n_line).reduceByKey(lambda x,y:x+y).filter(lambda x: x[1]>T)\n",
    "    a1 = sc.textFile(\"Shakespeare.txt\").flatMap(pair).reduceByKey(lambda x,y:x+y).filter(lambda x: x[1]>T).map(lambda x: (x[0][0], (x[0][1], x[1])))\n",
    "    a1 = a1.reduceByKey(lambda x,y:x+y)\n",
    "\n",
    "    b = sc.parallelize(a1.takeSample(False, samp_size, None))\n",
    "    b = b.map(lambda x: (x[0], \"\"))\n",
    "    c = sc.parallelize(PMI(2)).filter(lambda x: x[2] > T).map(lambda x: (x[0][0], ( (x[0][0], x[0][1]), x[1], x[2], x[3], x[4])))\n",
    "    c = c.reduceByKey(lambda x,y:x+y)\n",
    "    d = c.join(b)\n",
    "\n",
    "    d = d.map(lambda x: (x[0], [ x[1][0] ]))\n",
    "    return d.collect()\n",
    "    \n"
   ]
  },
  {
   "cell_type": "markdown",
   "metadata": {},
   "source": [
    "---\n",
    "Don't forget to save your workbook!   When you are finished and you are ready to submit your assignment, download your notebook file (.ipynb) from the hub to your machine, and then follow the submission instructions in the assignment."
   ]
  },
  {
   "cell_type": "code",
   "execution_count": 213,
   "metadata": {},
   "outputs": [
    {
     "data": {
      "text/plain": [
       "[('you',\n",
       "  [(('you', 'i'),\n",
       "    0.18638190375571087,\n",
       "    2854,\n",
       "    12196,\n",
       "    18657,\n",
       "    ('you', 'to'),\n",
       "    0.12767187759088927,\n",
       "    2437,\n",
       "    12196,\n",
       "    18237,\n",
       "    ('you', 'and'),\n",
       "    -0.05963472348492286,\n",
       "    2136,\n",
       "    12196,\n",
       "    24604)]),\n",
       " ('am', [(('am', 'i'), 0.8031984391122662, 2053, 2120, 18657)])]"
      ]
     },
     "execution_count": 213,
     "metadata": {},
     "output_type": "execute_result"
    }
   ],
   "source": [
    "PMI_one_token(2000, 2)"
   ]
  }
 ],
 "metadata": {
  "kernelspec": {
   "display_name": "Python 3",
   "language": "python",
   "name": "python3"
  },
  "language_info": {
   "codemirror_mode": {
    "name": "ipython",
    "version": 3
   },
   "file_extension": ".py",
   "mimetype": "text/x-python",
   "name": "python",
   "nbconvert_exporter": "python",
   "pygments_lexer": "ipython3",
   "version": "3.6.8"
  }
 },
 "nbformat": 4,
 "nbformat_minor": 2
}
