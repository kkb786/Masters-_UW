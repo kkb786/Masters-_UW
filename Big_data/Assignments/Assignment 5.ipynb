{
 "cells": [
  {
   "cell_type": "markdown",
   "metadata": {
    "deletable": false,
    "tags": [
     "instructions"
    ]
   },
   "source": [
    "## CS431/631 Data Intensive Distributed Computing\n",
    "### Winter 2020 - Assignment 5\n",
    "---"
   ]
  },
  {
   "cell_type": "markdown",
   "metadata": {
    "deletable": false,
    "tags": [
     "instructions"
    ]
   },
   "source": [
    "**Please edit this (text) cell to provide your name and UW student ID number!**\n",
    "* **Name:** _Kamran Karim_\n",
    "* **ID:** _20594936_"
   ]
  },
  {
   "cell_type": "code",
   "execution_count": 3,
   "metadata": {
    "deletable": false,
    "tags": [
     "setup"
    ]
   },
   "outputs": [],
   "source": [
    "import findspark, random\n",
    "findspark.init(\"/u/cs451/packages/spark\")\n",
    "\n",
    "from pyspark import SparkContext, SparkConf\n",
    "sc = SparkContext(appName=\"YourTest\", master=\"local[2]\", conf=SparkConf().set('spark.ui.port', random.randrange(4000,5000)))"
   ]
  },
  {
   "cell_type": "markdown",
   "metadata": {
    "deletable": false,
    "tags": [
     "instructions"
    ]
   },
   "source": [
    "---\n",
    "#### Overview\n",
    "For this assignment, you will be using Python and Spark to perform spam detection.   You will need to perform two tasks.   The first is to build spam prediction models, using training data sets and stochastic gradient descent (SGD).   The second is to use these models to predict whether the documents in a test data set are spam.\n",
    "The stochastic gradient descent technique that you will be using is based on [a paper](http://arxiv.org/abs/1004.5168) by Cormack, Smucker and Clarke.\n",
    "\n",
    "#### Training a Spam Classification Models\n",
    "To build a spam classification model, you will start with a training data set.   Each instance in the training set represents a single document, and is labeled to indicate whether that document should be considered to be spam or ham.\n",
    "An instance looks like this:\n",
    "```\n",
    "clueweb09-en0094-20-13546 spam 387908 697162 426572 161118 688171 ...\n",
    "```\n",
    "The first field, `clueweb09-en0094-20-13546`, is the (unique) document name.   The second field is the label, indicating whether the document should be considered spam (as in this example) or ham.   The remaining fields are integers representing *features* present in the document.   In this case, the features are hashed byte 4-grams, represented as integers.   Each training data set is stored as a text file, with one instance per line.   The training files have been preloaded into the directory `/u/cs451/public_html/spam` for you.   They are:\n",
    "* `spam.train.group_x.txt`   (25 MB)\n",
    "* `spam.train.group_y.txt`   (20 MB)\n",
    "* `spam.train.britney.txt`   (766 MB)\n",
    "\n",
    "If you are working on your own machine, you can download them using \n",
    "\n",
    "    wget https://www.student.cs.uwaterloo.ca/~cs451/spam/spam.train.group_x.txt.bz2\n",
    "    \n",
    "from a unix terminal or the Windows bash shell. This will download the compressed file to your current directory. You can extract the files with `bunzip2 spam.train.group_x.txt.bz2`. Follow the instructions at the beginning of [A6-CS451](https://www.student.cs.uwaterloo.ca/~cs451/assignment6-451.html) for more detailed information.\n",
    "\n",
    "---\n",
    "### Important\n",
    "\n",
    "The questions that follow ask you to implement functions whose prototypes are given to you. Do _**not**_ change the prototypes of the functions. Do _**not**_ write code outside of the functions.\n",
    "\n",
    "You may use specific cells, identified by `# Your tests here`, for test purposes. Code in these cells will *not* be executed when marking your assignment.\n",
    "\n",
    "---\n",
    "\n",
    "#### Question 1 ( 5/20 marks)\n",
    "\n",
    "Your first task is to write a sequential SGD model trainer in Python (no Spark).   For our purposes, a model associates a *weight* with each feature.   The model trainer decides what these weights should be, based on the training instances.  Since you are going to be writing a model trainer based on SGD, the trainer should behave like this:\n",
    "```\n",
    "for each training instance T\n",
    "   predict whether T is spam or ham using the weights of the current model\n",
    "   update the model weights by comparing T's predicted label with its actual label\n",
    "```\n",
    "Of course, the important part is how to update the model.\n",
    "\n",
    "In [the paper](http://arxiv.org/abs/1004.5168), the model is used to assign a \"spamminess\" score to a document.   Documents with positive spamminess are predicted to be spam.   Those with negative spamminess are predicted to be ham.  The spamminess of a document $D$ is simply the sum of the weights (from the model) of each of the document's features:\n",
    "\\begin{equation}\n",
    "spamminess(D) = \\sum_{f \\in D}{w(f)}\n",
    "\\end{equation}\n",
    "where $w(f)$ is the weight assocated with feature $f$.\n",
    "\n",
    "The Python module `spamminess.py` defines a function `spamminess(F,W)` which computes this quantity.   This function takes two arguments, `F` and `W`.  `F` is a list of features (integers) associated to the document whose spamminess you want to compute, and `W` is a dictionary representing the current model.  `W` maps features ($f$) to their weights ($w(f)$) under the model.\n",
    "\n",
    "In the cell below, you will find partial pseudo-code that shows how to implement the SGD model trainer defined by Cormack, Smucker, and Clarke.   It reads the training instances one at a time from one of the training files, and uses them to adjust the model weights.   Your job is to turn this pseudo-code into actual runnable Python code that can\n",
    "be used to learn a model from any one of the training files. Implement the function `sequential_SGD()` that takes as input a model (`w`), the training dataset and a value for the update parameter `delta`, and returns the trained model."
   ]
  },
  {
   "cell_type": "code",
   "execution_count": 4,
   "metadata": {
    "deletable": false,
    "tags": [
     "code"
    ]
   },
   "outputs": [],
   "source": [
    "from spamminess import spamminess\n",
    "from math import exp\n",
    "\n",
    "def sequential_SGD(model, training_dataset='/u/cs451/public_html/spam/spam.train.group_x.txt', delta = 0.002):\n",
    "    #### Your solution to Question 1 here\n",
    "    # open one of the training files - defaults to group_x\n",
    "    with open(training_dataset) as f:\n",
    "        pass\n",
    "        #w = dict()\n",
    "        for line in f:\n",
    "            \n",
    "            new = list(line.split(\" \"))\n",
    "            \n",
    "    #      each line represents a document\n",
    "    #      read and parse the line\n",
    "            \n",
    "    #      Let:\n",
    "    #        t represent the spam/ham tag for this document\n",
    "    #        F represent the list of features for this document\n",
    "            t = new[1]\n",
    "            F = new[2:]\n",
    "    #      find the spamminess of the current document using the current model:\n",
    "            score = spamminess(F,model)\n",
    "            prob =  1.0/(1+exp(-score))\n",
    "    #      then, update the model:\n",
    "    #      prob = 1.0/(1+exp(-score))\n",
    "            for f in F:\n",
    "                try:\n",
    "                    model[f]\n",
    "                except:\n",
    "                    model[f] =0\n",
    "                if t == 'spam':\n",
    "                    model[f] += (1.0-prob)*delta\n",
    "                elif t == 'ham':\n",
    "                    model[f] -= 1*prob*delta\n",
    "                else:\n",
    "                    model[f] = -999999999999\n",
    " \n",
    "    return model\n"
   ]
  },
  {
   "cell_type": "code",
   "execution_count": 18,
   "metadata": {
    "deletable": false,
    "tags": [
     "test"
    ]
   },
   "outputs": [
    {
     "name": "stdout",
     "output_type": "stream",
     "text": [
      "test from the values given in the next question \n",
      "\n",
      "2.60383236130304e-07\n",
      "3.636757246211486e-06\n",
      "9.893193150962152e-08\n",
      "3.313608601634814e-07\n"
     ]
    }
   ],
   "source": [
    "# Your tests here\n",
    "\n",
    "\n",
    "w1 = sequential_SGD({}) # Providing an empty model\n",
    "\n",
    "print(\"test from the values given in the next question \")\n",
    "print()\n",
    "print(w1['271525'] -0.0013133437007968654)\n",
    "print(w1['802123'] -0.0009858585991850937)\n",
    "print(w1['438450'] -4.267897922108138e-05)\n",
    "print(w1['92853'] -0.0004300009932503611)\n"
   ]
  },
  {
   "cell_type": "markdown",
   "metadata": {
    "deletable": false,
    "tags": [
     "instructions"
    ]
   },
   "source": [
    "#### Question 2 (5/20 marks)\n",
    "\n",
    "Next, you should try implementing a Spark version of the SGD model trainer.   Before you start, create a new folder\n",
    "called `models` inside your cs431 folder.   Your Spark implementation should read a training file, train the model, and then output the model to the models folder.  The model output file that you generate should list the weight associated with each feature, with one feature per line, like this:\n",
    "```\n",
    "(802123, 0.0009858585991850937)\n",
    "(438450, 4.267897922108138e-05)\n",
    "(271525, 0.0013133437007968654)\n",
    "(92853, 0.0004300009932503611)\n",
    "```\n",
    "\n",
    "Use Spark's `saveAsTextFile` action to output your model.   For example, if you are training a model for the group_x training set, use `saveAsTextFile(\"models/group_x_model\")`.   This will actually cause Spark to create a folder called `group_x_model`.   In the folder, there will be files with names like `part-00000` that contain the actual output data.  When you use `saveAsTextFile`, Spark will generate one `part-xxxxx` file for each partition of the RDD that you are writing out.   In this case, you should have only a single partition (for the reason described below), so there should be only one `part-xxxxx` file.\n",
    "\n",
    "Training the SGD model is an inherently sequential task, since the training instances update the model one at a time, and each instance's spamminess is computed using the model produced by that instance's predecessors.   This means that the only part of the training that you can parallelize using Spark is the parsing of the input file.   Once the input is parsed, your Spark implementation will have to force all of the instances into a single partition, and then apply the training function to the entire partition.   To see whether you are getting sensible results, you can compare the model you learn with Spark to the one that you learned with your sequential Python program from Question 1.\n",
    "\n",
    "Remember that training should occur entirely in Spark.  The training instances should never come into your driver program.\n",
    "\n",
    "Implement the function `spark_SGD()` below that takes as input the path to the training dataset, an output path `output_model` and a value for the update parameter `delta`, and writes the trained model to `output_model` using Spark's `saveAsTextFile`. You can use it to generate models from all three of the training files, leaving the results in your models folder. For this assignment, you will be using Spark's original RDD interface, rather than the DataFrame interface.\n"
   ]
  },
  {
   "cell_type": "code",
   "execution_count": 59,
   "metadata": {
    "deletable": false,
    "tags": [
     "code"
    ]
   },
   "outputs": [],
   "source": [
    "from spamminess import spamminess\n",
    "from math import exp\n",
    "import shutil, os\n",
    "\n",
    "\n",
    "\n",
    "\n",
    "\n",
    "\n",
    "def spark_SGD(training_dataset='/u/cs451/public_html/spam/spam.train.group_x.txt', output_model='models/group_x_model', delta = 0.002):\n",
    "    if os.path.isdir(output_model):\n",
    "        shutil.rmtree(output_model) # Remove the previous model to create a new one\n",
    "    training_data = sc.textFile(training_dataset)\n",
    "    def iterators(c, delta = 0.002):\n",
    "        #splits = list(c.split(\",\"))\n",
    "        model= {}\n",
    "        for sen in c:\n",
    "\n",
    "            new = list(sen.split(\" \"))\n",
    "            t = new[1]\n",
    "            F = new[2:]\n",
    "\n",
    "\n",
    "\n",
    "            score = spamminess(F,model)\n",
    "            prob =  1.0/(1+exp(-score))\n",
    "            for f in F:\n",
    "                if f not in model:\n",
    "                    model[f]=0\n",
    "                if t == 'spam':\n",
    "                    model[f] += (1.0-prob)*delta\n",
    "                elif t == 'ham':\n",
    "                    model[f] -= 1*prob*delta\n",
    "        mod_list = [(k, v) for k, v in model.items()] \n",
    "        return mod_list\n",
    "    #### Your Solution to Question 2 here\n",
    "    tr = training_data#sc.textFile('/u/cs451/public_html/spam/spam.train.group_x.txt')\n",
    "    tr = tr.coalesce(1)\n",
    "    tr = tr.glom()\n",
    "\n",
    "    model = tr.flatMap(iterators)\n",
    "    model = model.map(lambda x: (int(x[0]), x[1]))\n",
    "    model.saveAsTextFile(output_model)\n",
    "    #model = model.collect()\n",
    "    #dict_model = model[0]\n",
    "\n",
    "    pass\n",
    "    #return model\n"
   ]
  },
  {
   "cell_type": "code",
   "execution_count": 60,
   "metadata": {
    "deletable": false,
    "tags": [
     "test"
    ]
   },
   "outputs": [
    {
     "data": {
      "text/plain": [
       "[(387908, 0.00695474119501872),\n",
       " (697162, 0.00695474119501872),\n",
       " (426572, 0.00695474119501872),\n",
       " (161118, 0.00695474119501872),\n",
       " (688171, 0.00695474119501872)]"
      ]
     },
     "execution_count": 60,
     "metadata": {},
     "output_type": "execute_result"
    }
   ],
   "source": [
    "# Your tests here\n",
    "input_model = 'models/group_x_model'\n",
    "import ast\n",
    "spark_SGD()\n",
    "w2 = sc.textFile(input_model).map(lambda x: ast.literal_eval(x.replace('\"', '')))\n",
    "#spark_SGD(training_dataset='/u/cs451/public_html/spam/spam.train.group_y.txt', output_model='models/group_y_model')\n",
    "#spark_SGD(training_dataset='/u/cs451/public_html/spam/spam.train.britney.txt', output_model='models/britney_model')\n",
    "w2.take(5)\n"
   ]
  },
  {
   "cell_type": "code",
   "execution_count": 19,
   "metadata": {},
   "outputs": [
    {
     "data": {
      "text/plain": [
       "[0.005449553093766073,\n",
       " 0.004398510520054098,\n",
       " 0.0042050794535140905,\n",
       " 0.0038256543614899707,\n",
       " 0.003800942012850951,\n",
       " 0.001972768543173812,\n",
       " 0.001962007974635165,\n",
       " 0.0019132971441951944,\n",
       " 0.0019017255426481295,\n",
       " 0.0018947580769234746,\n",
       " 0.0018891466834110738,\n",
       " 0.0018211573962808522,\n",
       " 0.0017997452665845643,\n",
       " 0.0017967137554830736,\n",
       " 0.0017958960468074537,\n",
       " 0.001606585363326525,\n",
       " 0.0015948715875650625,\n",
       " 0.001528080631803002,\n",
       " 0.0014975145395184257,\n",
       " 0.0013162440138839234]"
      ]
     },
     "execution_count": 19,
     "metadata": {},
     "output_type": "execute_result"
    }
   ],
   "source": [
    "test = list()\n",
    "w2 = dict(w2.collect())\n",
    "a = [key for key in w1.keys() if key in w2.keys()]\n",
    "a\n",
    "\n",
    "\n",
    "#comparison of model from question 1 and 2\n",
    "\n",
    "for i in a:\n",
    "    k =abs(w1[i]-w2[i])\n",
    "    test.append(k)\n",
    "\n",
    "test.sort(reverse = True)\n",
    "test[0:20]"
   ]
  },
  {
   "cell_type": "markdown",
   "metadata": {},
   "source": [
    "Note that the biggest difference in the weights are in the 3rd decimal place, hence, the two models are quite similar to each other"
   ]
  },
  {
   "cell_type": "markdown",
   "metadata": {
    "deletable": false,
    "tags": [
     "instructions"
    ]
   },
   "source": [
    "#### Question 3 (5/20 marks)\n",
    "\n",
    "When you train a model using SGD, the model you get depends on the order in which you handle the training instances.  To see this in action, try using the Spark SGD trainer you implemented for Question 2 to train a model from the group_x training set, but with the instances processed in a different order.  \n",
    "\n",
    "To do this, re-implement your trainer from Question 2 so that it will randomly reorder the training instances before using them to update the model. One way to shuffle the training instances is to assign a random sort key to each training instance as you read it from the input file, and then sort the instances using the random sort key.\n",
    "\n",
    "Be sure that Spark is doing the work of shuffling the training instances.   Do not load the training instances into your driver program and sort them there.\n",
    "\n",
    "Implement the function `spark_shuffled_SGD` below that takes as input the path to the training dataset, an output path `output_model` and a value for the update parameter `delta`, shuffles the training instances using the method described above and writes the trained model to `output_model` using Spark's `saveAsTextFile`.\n",
    "\n",
    "Once you have implemented the shuffled trainer, train a model using shuffled group_x training instances, and compare the resulting model with group_x model you learned without shuffling.  It is up to you how to do this comparision.  At a minimum, compare features with the highest weights in each model to see if they are similar. You can also use the classifier in next question to classify documents using the two models, and compare results.\n"
   ]
  },
  {
   "cell_type": "code",
   "execution_count": 61,
   "metadata": {
    "deletable": false,
    "tags": [
     "code"
    ]
   },
   "outputs": [],
   "source": [
    "from spamminess import spamminess\n",
    "from math import exp\n",
    "import shutil, os, random\n",
    "import random\n",
    "import os\n",
    "import numpy as np\n",
    "\n",
    "\n",
    "\n",
    "\n",
    "def spark_shuffled_SGD(training_dataset='/u/cs451/public_html/spam/spam.train.group_x.txt', output_model='models/group_x_model', delta = 0.002):\n",
    "    if os.path.isdir(output_model):\n",
    "        shutil.rmtree(output_model) # Remove the previous model to create a new one\n",
    "    def rand(c, n = 756):\n",
    "    \n",
    "        l = list(range(756))\n",
    "        random.shuffle(l)\n",
    "        return (l[c[1]], c[0])\n",
    "    tr = sc.textFile(training_dataset)\n",
    "    #### Your Solution to Question 3 here\n",
    "    tr = tr.zipWithIndex().map(rand).sortByKey().map(lambda x : x[1])\n",
    "    tr = tr.coalesce(1)\n",
    "    tr = tr.glom()\n",
    "\n",
    "    model = tr.flatMap(iterators).map(lambda x: (int(x[0]), x[1]))\n",
    "    model.saveAsTextFile(output_model)\n",
    "    \n",
    "    pass\n",
    "    \n",
    "\n",
    "\n"
   ]
  },
  {
   "cell_type": "code",
   "execution_count": 62,
   "metadata": {},
   "outputs": [],
   "source": [
    "spark_shuffled_SGD(output_model='models/group_x_model_shuffled')"
   ]
  },
  {
   "cell_type": "code",
   "execution_count": 57,
   "metadata": {
    "deletable": false,
    "tags": [
     "test"
    ]
   },
   "outputs": [
    {
     "name": "stdout",
     "output_type": "stream",
     "text": [
      "77.53 % accuracy\n",
      "0.0 % error\n",
      "(288281, 0.022996007768337472)\n",
      "(658098, 0.02344231872027235)\n",
      "\n",
      "(316070, 0.02178760768974702)\n",
      "(293364, 0.02344231872027235)\n",
      "\n",
      "(305568, 0.02166991395934579)\n",
      "(675415, 0.021955556206256888)\n",
      "\n",
      "(737304, 0.02155627086676939)\n",
      "(896949, 0.021740971030947)\n",
      "\n",
      "(102264, 0.021381723804112546)\n",
      "(756969, 0.02159215685960891)\n",
      "\n",
      "(202131, 0.020560097038631847)\n",
      "(275149, 0.021074672902022206)\n",
      "\n",
      "(674600, 0.02024316823828206)\n",
      "(288281, 0.020160373574525943)\n",
      "\n",
      "(419514, 0.0200693349931559)\n",
      "(520474, 0.020106561974121452)\n",
      "\n",
      "(837735, 0.019975296559266612)\n",
      "(202131, 0.01973874896365156)\n",
      "\n",
      "(879817, 0.01985728645880699)\n",
      "(718475, 0.019693183356417815)\n",
      "\n"
     ]
    }
   ],
   "source": [
    "# Your tests here\n",
    "\n",
    "results = 'results/test_qrels'\n",
    "\n",
    "#spark_shuffled_SGD(output_model='models/group_x_model_shuffled')\n",
    "\n",
    "\n",
    "spark_classify(input_model='models/group_x_model_shuffled')\n",
    "a = sc.textFile(results).map(lambda x: ast.literal_eval(x.replace('\"', '')))\n",
    "a = a.collect()\n",
    "a.sort(key = lambda x: x[0])  \n",
    "\n",
    "spark_classify()\n",
    "b = sc.textFile(results).map(lambda x: ast.literal_eval(x.replace('\"', '')))\n",
    "b = b.collect()\n",
    "b.sort(key = lambda x: x[0])  \n",
    "\n",
    "\n",
    "tot = 0\n",
    "same = 0\n",
    "key_err = 0\n",
    "\n",
    "for i in range(len(a)):\n",
    "    tot += 1\n",
    "    if a[i][0] == b[i][0]:\n",
    "        if a[i][3] == b[i][3]:\n",
    "            same +=1\n",
    "    else:\n",
    "        key_err +=1\n",
    "\n",
    "print(round(100*same/tot, 2) , \"% accuracy\")\n",
    "print(round(100*key_err/tot, 2) , \"% error\")\n",
    "\n",
    "c = sc.textFile(\"models/group_x_model\").map(lambda x: ast.literal_eval(x.replace('\"', ''))).collect()\n",
    "d = sc.textFile(\"models/group_x_model_shuffled\").map(lambda x: ast.literal_eval(x.replace('\"', ''))).collect()\n",
    "spark_shuffled_SGD(output_model='models/group_x_model_shuffled')\n",
    "c.sort(key = lambda x: x[1], reverse = True)\n",
    "d.sort(key = lambda x: x[1], reverse = True)\n",
    "\n",
    "\n",
    "for i in range(10):\n",
    "    print(c[i])\n",
    "    print(d[i])\n",
    "    print()"
   ]
  },
  {
   "cell_type": "markdown",
   "metadata": {},
   "source": [
    "77.53% of the documents are classified same by both the original and the shuffled SGD. Further it can be seen that the highest weights in both the models are different for the top 10 weights."
   ]
  },
  {
   "cell_type": "markdown",
   "metadata": {
    "deletable": false,
    "tags": [
     "instructions"
    ]
   },
   "source": [
    "#### Question 4 (5/20  marks)\n",
    "\n",
    "Last but not least, you should write a Spark program that can be used to classify documents as spam or ham, using the classification models you produced.\n",
    "\n",
    "The test data, i.e., the document instances that you should classifiy, are located in the file\n",
    "* `/u/cs451/public_html/spam/spam.test.qrels.txt`\n",
    "\n",
    "Each line in this file represents a document that needs to be classified as spam or ham.  The format of this file is identical to the format of the files that hold the training instances.\n",
    "\n",
    "Implement the function `spark_classify` below that will load a model (from a specified folder under `models`), classify all of the instances in a given test data file (`spam.test.qrels.txt` by default) using that model, and then output the results in the folder `results_path` using Spark's `saveAsTextFile`.   The contents of the output file should look like this:\n",
    "```\n",
    "(clueweb09-en0000-00-00142,spam,2.601624279252943,spam)\n",
    "(clueweb09-en0000-00-01005,ham,2.5654162439491004,spam)\n",
    "(clueweb09-en0000-00-01382,ham,2.5893946346394188,spam)\n",
    "```\n",
    "Each line of the output represents one test instance.   The first two fields are the document ID and the test label.  These are just copied from the test data.   The third field is the spamminess score of the document, produced by the spamminess function using the model you are classifying with.   The fourth field is the spam/ham prediction made by the model.\n",
    "\n",
    "Of course, your spam/ham classifier must **not** use the test label from the input when making its prediction.  The test labels are the \"ground truth\" against which your predictions are being compared.   Using them to make predictions would defeat the whole purpose of model-based classification.\n",
    "\n",
    "Make sure that classification of the test instances is done by Spark, not by your driver program.  Do ***not*** load the test instances or classification results into your driver program. You are however allowed to load the model weights into your driver program to distribute them as side data. \n",
    "Unlike model training, classification is easily parallelizable, since each document is classified independently. "
   ]
  },
  {
   "cell_type": "code",
   "execution_count": 63,
   "metadata": {
    "deletable": false,
    "tags": [
     "code"
    ]
   },
   "outputs": [],
   "source": [
    "from spamminess import spamminess\n",
    "import shutil, os\n",
    "import ast\n",
    "\n",
    "\n",
    "def spark_classify(input_model='models/group_x_model', test_dataset='/u/cs451/public_html/spam/spam.test.qrels.txt', results_path='results/test_qrels'):\n",
    "    if os.path.isdir(results_path):\n",
    "        shutil.rmtree(results_path) # Remove the previous results\n",
    "    def classify(c, w ):\n",
    "        new = list(c.split(\" \"))\n",
    "        F = new[2:]\n",
    "        val = 0\n",
    "        for k in F:\n",
    "            f = int(k)\n",
    "            try:\n",
    "                w[f]\n",
    "            except:\n",
    "                w[f]=0\n",
    "            val += w[f]\n",
    "        if val >= 0:\n",
    "            lab = \"spam\"\n",
    "        else:\n",
    "            lab = \"ham\"\n",
    "        return (new[0], new[1], val, lab)\n",
    "    test_data = sc.textFile(test_dataset)\n",
    "    \n",
    "    model = sc.textFile(input_model)\n",
    "    w = sc.textFile(input_model).map(lambda x: ast.literal_eval(x.replace('\"', '')))\n",
    "    w = dict(w.collect())\n",
    "    final = test_data.map(lambda x: classify(x,w))\n",
    "    final.saveAsTextFile(results_path)\n",
    "    pass\n",
    "\n",
    "\n"
   ]
  },
  {
   "cell_type": "markdown",
   "metadata": {
    "deletable": false,
    "tags": [
     "instructions"
    ]
   },
   "source": [
    "We have installed a program in the CS451 account that can be used to evaluate your classification results.  Given your ouput file, in the proper format, it will compute the area under the receiver operating curve (ROC).   This is a common way to characterize classifier error.    The lower this score, the better.   The evaluation program should produce one line of output, like this\n",
    "```\n",
    "1-ROCA%: 17.25\n",
    "```\n",
    "\n",
    "Use your classifier to classify the test instances using each of the three classification models that you produced, which should result in three different output files.   Then, in the cell below,\n",
    "use the evaluation program to evaluate your results.\n",
    "\n",
    "If you are working on your own machine, you can follow the instructions at the beginning of [CS451 A6](https://www.student.cs.uwaterloo.ca/~cs451/assignment6-451.html) to download and install the program. "
   ]
  },
  {
   "cell_type": "code",
   "execution_count": 68,
   "metadata": {
    "deletable": false,
    "tags": [
     "test"
    ]
   },
   "outputs": [
    {
     "name": "stdout",
     "output_type": "stream",
     "text": [
      "1-ROCA%: 17.26\r\n"
     ]
    }
   ],
   "source": [
    "# Your tests here\n",
    "#  Run the evaluation program like this, after first replacing \"output-file\"\n",
    "#  with the name of the folder that holds your classifier's output\n",
    "#  Note the \"!\" character, which is important.   This is the escape character\n",
    "#  that tells the notebook to run an external program.\n",
    "\n",
    "###############################################################\n",
    "#commented below is the way to get accuracy of the predictions.\n",
    "###############################################################\n",
    "\n",
    "#error = final.map(lambda x: 1 if x[1] == x[3] else 0)\n",
    "#a = error.collect()\n",
    "#b = sum(a)\n",
    "#c = len(a)\n",
    "#print(b)\n",
    "#print(c)\n",
    "#print(b/c)\n",
    "\n",
    "spark_classify()\n",
    "\n",
    "#results_path='results/test_qrels'\n",
    "!/u/cs451/bin/spam_eval.sh 'results/test_qrels' #output-file\n",
    "\n"
   ]
  },
  {
   "cell_type": "markdown",
   "metadata": {
    "deletable": false,
    "tags": [
     "instructions"
    ]
   },
   "source": [
    "---\n",
    "Don't forget to save your workbook!   When you are finished and you are ready to submit your assignment, download your notebook file (.ipynb) from the hub to your machine, and then follow the submission instructions in the assignment."
   ]
  }
 ],
 "metadata": {
  "kernelspec": {
   "display_name": "Python 3",
   "language": "python",
   "name": "python3"
  },
  "language_info": {
   "codemirror_mode": {
    "name": "ipython",
    "version": 3
   },
   "file_extension": ".py",
   "mimetype": "text/x-python",
   "name": "python",
   "nbconvert_exporter": "python",
   "pygments_lexer": "ipython3",
   "version": "3.6.8"
  }
 },
 "nbformat": 4,
 "nbformat_minor": 2
}
