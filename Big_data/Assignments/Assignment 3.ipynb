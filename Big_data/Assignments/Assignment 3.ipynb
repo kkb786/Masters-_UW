{
 "cells": [
  {
   "cell_type": "markdown",
   "metadata": {},
   "source": [
    "## CS431/631 Data Intensive Distributed Analytics\n",
    "### Winter 2020 - Assignment 3\n",
    "---"
   ]
  },
  {
   "cell_type": "markdown",
   "metadata": {},
   "source": [
    "**Please edit this (text) cell to provide your name and UW student ID number!**\n",
    "* **Name:** _Kamran Karim_\n",
    "* **ID:** _20594936_"
   ]
  },
  {
   "cell_type": "markdown",
   "metadata": {},
   "source": [
    "---\n",
    "#### Overview\n",
    "For this assignment, you will be using Python and Spark to perform some graph analysis, using a graph of the Gnutella server network.   In this graph, each node represents a server, and each (directed) edge represents a connection between servers in Gnutella's peer-to-peer network.  The input file for this assignment, `p2p-Gnutella08-adj.txt`, represents the graph as an adjacency list.   Each server (node) is identified by a unique number, and each line in the file gives the adjacency list for a single server.\n",
    "For example, this line:\n",
    "> 91\t243\t1923\t2194\n",
    "\n",
    "gives the adjacency list for server `91`.   It indicates that there are edges from server `91` to servers `243`, `1923`, and `2194`.    According to the Stanford Network Analysis Project, which collected these data, [the graph includes 6301 servers and 20777 edges](http://snap.stanford.edu/data/p2p-Gnutella08.html).\n",
    "\n",
    "As you know from the previous assignment, you must tell the Python interpreter where to find Spark before performing any Spark operations in your program.   So, start by doing that:"
   ]
  },
  {
   "cell_type": "code",
   "execution_count": 1,
   "metadata": {},
   "outputs": [],
   "source": [
    "import findspark\n",
    "findspark.init(\"/u/cs451/packages/spark\")\n",
    "\n",
    "from pyspark import SparkContext, SparkConf"
   ]
  },
  {
   "cell_type": "markdown",
   "metadata": {},
   "source": [
    "and then create a `SparkContext`:"
   ]
  },
  {
   "cell_type": "code",
   "execution_count": 2,
   "metadata": {},
   "outputs": [],
   "source": [
    "import random\n",
    "sc = SparkContext(appName=\"YourTest\", master=\"local[2]\", conf=SparkConf().set('spark.ui.port', random.randrange(4000,5000)))"
   ]
  },
  {
   "cell_type": "markdown",
   "metadata": {},
   "source": [
    "---\n",
    "### Important\n",
    "\n",
    "###### The questions that follow ask you to implement functions whose prototypes are given to you. Do **NOT** change the prototypes of the functions. Do **NOT** write code outside of functions. All necessary code should be included in the function body (except for import statements). You may declare functions inside of the function body. When marking, we will execute your code by calling the functions from an external program, which is why your code cannot rely on statements running outside functions. Please remove any call to the functions that you may have introduced for test purposes before submitting your notebook."
   ]
  },
  {
   "cell_type": "markdown",
   "metadata": {},
   "source": [
    "---\n",
    "#### Question 1  (6/24 marks):\n",
    "\n",
    "To get warmed up, you should first write Spark code to confirm or determine some basic properties of the Gnutella graph.  Write code in the provided functions that will return answers to the following questions, as specified in each function's documentation:\n",
    "- How many nodes and edges are there in the graph?  (This should confirm the numbers given above.)\n",
    "- How many nodes of each outdegree are there? That is, how many nodes have no outgoing edges, how many have one outgoing edge, how many have two outgoing edges, and so on?\n",
    "- How many nodes of each indegree are there?\n",
    "\n",
    "You should use Spark to answer these questions.   Do *not* load the entire graph into your Python driver program."
   ]
  },
  {
   "cell_type": "code",
   "execution_count": 3,
   "metadata": {},
   "outputs": [],
   "source": [
    "file = \"p2p-Gnutella08-adj.txt\""
   ]
  },
  {
   "cell_type": "code",
   "execution_count": 4,
   "metadata": {},
   "outputs": [
    {
     "name": "stdout",
     "output_type": "stream",
     "text": [
      "(6301, 20726)\n",
      "[(0, 3840), (10, 1497), (9, 398), (1, 291), (5, 107), (8, 52), (2, 30), (4, 28), (3, 13), (6, 11), (7, 8), (17, 4), (12, 3), (14, 2), (18, 2), (13, 2), (34, 1), (24, 1), (22, 1), (28, 1), (46, 1), (48, 1), (25, 1), (29, 1), (19, 1), (47, 1), (11, 1), (31, 1), (41, 1)]\n",
      "[(1, 2494), (2, 1281), (3, 874), (4, 554), (5, 333), (6, 229), (7, 141), (8, 79), (9, 68), (10, 37), (11, 27), (12, 24), (13, 19), (14, 14), (15, 6), (20, 4), (81, 4), (70, 3), (60, 3), (531, 3), (71, 3), (67, 3), (604, 2), (32, 2), (62, 2), (18, 2), (72, 2), (56, 2), (66, 2), (19, 2), (21, 2), (69, 2), (31, 2), (50, 1), (82, 1), (30, 1), (46, 1), (16, 1), (536, 1), (580, 1), (52, 1), (76, 1), (38, 1), (86, 1), (44, 1), (22, 1), (78, 1), (589, 1), (579, 1), (949, 1), (53, 1), (57, 1), (47, 1), (25, 1), (33, 1), (603, 1), (85, 1), (83, 1), (87, 1), (61, 1), (27, 1), (73, 1), (35, 1), (63, 1), (79, 1), (55, 1), (41, 1), (91, 1), (23, 1)]\n"
     ]
    }
   ],
   "source": [
    "\n",
    "def num_nodes_edges():\n",
    "    \"\"\"Returns a tuple (num_nodes, num_edges)\"\"\"\n",
    "    a = sc.textFile(file).map(lambda c:(str(c.encode() )[2:].split(\"\\\\t\")[0].replace(\"'\",\"\"),str(c.encode() )[5:].split(\"\\\\t\")[1:]))\n",
    "    nodes = a.count()\n",
    "    b = a.map(lambda x: (\"dummy\", len(x[1])))\n",
    "    edges = b.reduceByKey(lambda x,y: x+y).collect()[0][1]\n",
    "    return (nodes,edges)\n",
    "              \n",
    "    \n",
    "    \n",
    "def out_counts():\n",
    "    \"\"\"Returns a dictionary where the keys are the outdegrees, and the \n",
    "    values are the number of nodes of the corresponding outdegree \"\"\"\n",
    "    #### Your code for Question 1.2 should go here\n",
    "    a = sc.textFile(file).map(lambda c:(str(c.encode() )[2:].split(\"\\\\t\")[0].replace(\"'\",\"\"),str(c.encode() )[5:].split(\"\\\\t\")[1:]))\n",
    "    b = a.map(lambda x: (x[0], len(x[1]))).map(lambda x:(x[1],1)).reduceByKey(lambda x,y: x+y).map(lambda x:(x[1],x[0])).sortByKey(False).map(lambda x:(x[1],x[0]))\n",
    "    return b.collect()\n",
    "\n",
    "def in_counts():\n",
    "    \"\"\"Returns a dictionary where the keys are the indegrees, and the \n",
    "    values are the number of nodes of the corresponding indegree \"\"\"\n",
    "    a = sc.textFile(file).map(lambda c:(str(c.encode() )[2:].split(\"\\\\t\")[0].replace(\"'\",\"\"),str(c.encode() )[5:])).map(lambda x: x[1])\n",
    "    b = a.flatMap(lambda x:x.split(\"\\\\t\")).map(lambda x: (x.replace(\"'\",\"\"),1)).reduceByKey(lambda x,y: x+y)\n",
    "    c = b.map(lambda x:(x[1],1)).reduceByKey(lambda x,y: x+y).map(lambda x:(x[1],x[0])).sortByKey(False).map(lambda x:(x[1],x[0]))\n",
    "    return c.collect()\n",
    "print(num_nodes_edges())\n",
    "print(out_counts())\n",
    "print(in_counts())"
   ]
  },
  {
   "cell_type": "markdown",
   "metadata": {},
   "source": [
    "---\n",
    "Your main objective for this assignment is to perform *single source personalized page rank* over the Gnutella graph.  To get started, you should make sure that you have a clear understanding of ordinary (i.e., non-personalized) page rank.  Read the description of page rank in Section 5.3 of [the course textbook](http://mapreduce.cc/).   Personalized page rank is like ordinary page rank except:\n",
    "- One node in the graph is designated as the *source* node. Personalized page rank is performed with respect to that source node.\n",
    "- Personalized page rank is initialized by assigning all probability mass to the source node, and none to the other nodes. In contrast, ordinary page rank is initialized by giving all nodes the same probability mass.\n",
    "- Whenever personalized page rank makes a random jump, it jumps back to the source node. In contrast, ordinary page rank may jump to any node.\n",
    "- In personalized page rank, all probability mass lost dangling nodes is put back into the source nodes.  In ordinary page rank, lost mass is distributed evenly over all nodes.\n",
    "\n",
    "#### Question 2  (10/24 marks):\n",
    "\n",
    "Your task is to write a Spark program to perform personalized page rank over the Gnutella graph for a specified number of iterations, and of course a specific node. The function you will implement takes three input values:\n",
    "- source node id (a positive integer)\n",
    "- iteration count (a positive integer)\n",
    "- random jump factor value (a float between 0 and 1)\n",
    "\n",
    "The function should perform personalized page rank, with respect to the specified source node, over the Gnutella graph, for the specified number of iterations, using Spark.\n",
    "The output of your function should be a list of the 10 nodes with the highest personalized page rank with respect to the given source. For each of the 10 nodes, return the node's id and page rank value as a tuple. The list returned by the function should therefore look something like this: `[(node_id_1, highest_pagerank_value), ..., (node_id_10, 10th_highest_pagerank_value)]`"
   ]
  },
  {
   "cell_type": "code",
   "execution_count": 9,
   "metadata": {},
   "outputs": [],
   "source": [
    "import numpy as np\n",
    "import random as rd\n",
    "file = \"p2p-Gnutella08-adj.txt\"\n"
   ]
  },
  {
   "cell_type": "code",
   "execution_count": 63,
   "metadata": {},
   "outputs": [],
   "source": [
    "def pair(s):\n",
    "    l = list()\n",
    "    tot = len(s)-1\n",
    "    for i in s:\n",
    "        j = i.replace(\"'\",\"\")\n",
    "        k = s[0].replace(\"'\",\"\")\n",
    "        if tot == 0:\n",
    "            l.append((k,[],0))\n",
    "        elif i != s[0]:\n",
    "            l.append((k,j, tot))\n",
    "    return l\n",
    "def swap(x):\n",
    "    return (x[1],x[0])\n",
    "def add(x,y):\n",
    "    return x+y\n",
    "original =  sc.textFile(file).map(lambda c:str(c.encode() )[2:].split(\"\\\\t\")).flatMap(pair)\n",
    "orig = original.map(lambda x: (x[0],(x[1],x[2])))"
   ]
  },
  {
   "cell_type": "code",
   "execution_count": 105,
   "metadata": {},
   "outputs": [],
   "source": [
    "def personalized_page_rank(s_n_id, iter, j_fac):\n",
    "    \"\"\"Returns a list of the 10 nodes with the highest page rank value along with their value, as tuples\n",
    "    [(node_id_1, highest_pagerank_value), ..., (node_id_10, 10th_highest_pagerank_value)]\"\"\"\n",
    "    n_j = 1-j_fac\n",
    "    try:\n",
    "        original\n",
    "    except NameError:\n",
    "        original = None\n",
    "        orig = None\n",
    "    \n",
    "    if original is None:\n",
    "        original =  sc.textFile(file).map(lambda c:str(c.encode() )[2:].split(\"\\\\t\")).flatMap(pair)\n",
    "        original.cache()\n",
    "        orig = original.map(lambda x: (x[0],(x[1],x[2])))\n",
    "        orig.cache()\n",
    "\n",
    "    try:\n",
    "        int(s_n_id)\n",
    "    except:\n",
    "        s_n_id = -1\n",
    " \n",
    "    if int(s_n_id) in range(original.count() +1) and isinstance(iter, int) and iter>0 and (0<= j_fac <= 1): \n",
    "        if type(s_n_id) is not str:\n",
    "            s_n_id = str(s_n_id)\n",
    "        \n",
    "        iterations = original.map(lambda x:(x[0], x[1],x[2], 1 if x[0] == s_n_id  else 0))\n",
    "       \n",
    "        for i in range(iter):\n",
    "            rank = iterations.map(lambda x : (x[1],n_j* x[3]/x[2], j_fac*x[3]/x[2]) if x[2] != 0 else  (s_n_id, x[3], 0))\n",
    "            s_n_add = rank.map(lambda x: (\"k\", x[2])).reduceByKey(lambda x,y:x+y).collect()[0][1]\n",
    "            rank = rank.map(lambda x: (x[0], x[1])).reduceByKey(lambda x,y:x+y).map(lambda x : (x[0], x[1]+s_n_add) if x[0] == s_n_id else (x[0], x[1]))\n",
    "            iterations = orig.leftOuterJoin(rank).map(lambda x: (x[0],x[1][0][0],x[1][0][1],x[1][1] if x[1][1] is not None else 0 ))\n",
    "        \n",
    "        normal = rank.map(lambda x: (\"n\", x[1])).reduceByKey(add).collect()[0][1]\n",
    "        \n",
    "        return rank.map(lambda x: (x[0], x[1]/normal)).map(swap).sortByKey(False).map(swap).take(10)\n",
    "    else:\n",
    "        return \"s_n_id has to one of the nodes, iter has to be a natural number (and possibly small if you wanna finish the computation today) and factor has to be between 0 and 1\"\n",
    "       "
   ]
  },
  {
   "cell_type": "code",
   "execution_count": 108,
   "metadata": {},
   "outputs": [
    {
     "data": {
      "text/plain": [
       "[('3', 0.4796339200000007),\n",
       " ('1860', 0.03742151111111117),\n",
       " ('1896', 0.03202560000000006),\n",
       " ('1898', 0.031974400000000056),\n",
       " ('826', 0.031974400000000056),\n",
       " ('1895', 0.031974400000000056),\n",
       " ('703', 0.031974400000000056),\n",
       " ('1897', 0.031974400000000056),\n",
       " ('1287', 0.031974400000000056),\n",
       " ('1097', 0.031974400000000056)]"
      ]
     },
     "execution_count": 108,
     "metadata": {},
     "output_type": "execute_result"
    }
   ],
   "source": [
    "#test the function here\n",
    "s_node = \n",
    "n_iterations = \n",
    "jump_factor = \n",
    "personalized_page_rank(s_node,n_iterations , jump_factor)\n"
   ]
  },
  {
   "cell_type": "markdown",
   "metadata": {},
   "source": [
    "---\n",
    "#### Question 3  (4/24 marks):\n",
    "\n",
    "For the previous question, you implemented personalized page rank that ran for a specified number of iterations.  However, it is also common to write iterative algorithms that run until some specified termination condition is reached.\n",
    "For example, for page rank, suppose the $p_i(x)$ represents the probability mass assigned to node $x$ after the $i$th iteration of the algorithm.  ($p_0(x)$ is the initial probability mass of node $x$.)   We define the change of $x$'s probability mass on the $i$th iteration as $\\lvert p_i(x)-p_{i-1}(x) \\rvert$.   Then, we can iterate personalized page rank until the maximum (over all nodes) change is less than a specified threshold, i.e, until all nodes' page ranks have converged.\n",
    "\n",
    "For this question, modify your personalized page rank implementation from Question 2 so that it iterates until the \n",
    "maximum node change is less than $\\frac{0.5}{N}$, where $N$ represents the number of nodes in the graph.\n",
    "This version of the function should take only two inputs: the source node id and the random jump factor.\n",
    "\n",
    "If you were unable to get personalized page rank working in Question 2, replace the code cell below with a text (Markdown) cell, and briefly describe how you *would* have modified your program to incorporate a termination condition based on maximum node change, for partial credit. "
   ]
  },
  {
   "cell_type": "code",
   "execution_count": 103,
   "metadata": {},
   "outputs": [],
   "source": [
    "def personalized_page_rank_stopping_criterion(s_n_id, j_fac):\n",
    "    \"\"\"Returns a list of the 10 nodes with the highest page rank value along with their value, as tuples\n",
    "    [(node_id_1, highest_pagerank_value), ..., (node_id_10, 10th_highest_pagerank_value)]\"\"\"\n",
    "    if type(s_n_id) is not str:\n",
    "        s_n_id = str(s_n_id)\n",
    "    nodes = num_nodes_edges()[0]\n",
    "    T =0.5/nodes\n",
    "    \n",
    "    try:\n",
    "        original\n",
    "    except NameError:\n",
    "        original = None\n",
    "        orig = None\n",
    "    if original is None:\n",
    "        original =  sc.textFile(file).map(lambda c:str(c.encode() )[2:].split(\"\\\\t\")).flatMap(pair)\n",
    "        orig = original.map(lambda x: (x[0],(x[1],x[2])))\n",
    "        orig.cache()\n",
    "        original.cache()\n",
    "    try:\n",
    "        int(s_n_id)\n",
    "    except:\n",
    "        s_n_id = -1\n",
    "    if int(s_n_id) in range(original.count() +1) and (0<= j_fac <= 1):  \n",
    "\n",
    "        iterations = original.map(lambda x:(x[0], x[1],x[2], 1 if x[0] == s_n_id  else 0))\n",
    "        dummy =0\n",
    "        iter = 1\n",
    "        n = 0\n",
    "        while iter>T:\n",
    "            rank = iterations.map(lambda x : (x[1],n_j* x[3]/x[2], j_fac*x[3]/x[2]) if x[2] != 0 else  (s_n_id, x[3], 0))\n",
    "            s_n_add = rank.map(lambda x: (\"k\", x[2])).reduceByKey(add).collect()[0][1]\n",
    "            rank = rank.map(lambda x: (x[0], x[1])).reduceByKey(add).map(lambda x : (x[0], x[1]+s_n_add) if x[0] == s_n_id else (x[0], x[1]))\n",
    "            iterations = orig.leftOuterJoin(rank).map(lambda x: (x[0],x[1][0][0],x[1][0][1],x[1][1] if x[1][1] is not None else 0 ))\n",
    "            if dummy == 1:\n",
    "                iter = rank.join(rank2).map(lambda x :  abs(x[1][0]-x[1][1])).max()\n",
    "            dummy = 1\n",
    "            rank2 = rank\n",
    "            n+=1\n",
    "        normal = rank.map(lambda x: (\"n\", x[1])).reduceByKey(add).collect()[0][1]\n",
    "        rank = rank.map(lambda x: (x[0], x[1]/normal)).map(swap).sortByKey(False).map(swap)\n",
    "\n",
    "        return rank.take(10)\n",
    "    else:\n",
    "        return \"s_n_id has to one of the nodes and factor has to be between 0 and 1\"\n",
    "\n",
    "\n"
   ]
  },
  {
   "cell_type": "code",
   "execution_count": 104,
   "metadata": {},
   "outputs": [],
   "source": [
    "#test the function here\n",
    "s_node =\n",
    "jump_factor = \n",
    "personalized_page_rank_stopping_criterion(s_node, jump_factor)\n"
   ]
  },
  {
   "cell_type": "markdown",
   "metadata": {},
   "source": [
    "---\n",
    "#### Question 4  (4/24 marks):\n",
    "\n",
    "Spark provides the ability to *cache* RDDs.   This is useful when an RDD will be used more than once.   Instead of computing the same RDD multiple times, it can be computed once, cached, and then re-used from the cache.   Read about caching in the Spark textbook, or in the [persistence section of the Spark RDD programming guide](https://spark.apache.org/docs/latest/rdd-programming-guide.html#rdd-persistence).   Caching can be particularly effective for iterative Spark applications, like those you are writing for this assignment.\n",
    "\n",
    "For this question, go back to the code that you wrote to answer Question 3, and add caching.   (Caching will not affect the functionality of your code, i.e., what it computes.   It should only affect performance.)   Don't worry about different persistence levels.   Just use `cache()`, which caches RDDs at the default persistence level.\n",
    "\n",
    "In addition to adding `cache()` calls in your code, use the text cell below to briefly explain how you decided which RDDs to cache. \n",
    "\n",
    "If you were not able to finish Question 3, add caching annotations to your solution for Question 2 instead."
   ]
  },
  {
   "cell_type": "markdown",
   "metadata": {},
   "source": [
    "---\n",
    "#### Your answer to Question 4:\n",
    "\n",
    "*In my code the two rdds that are being reused are named as original and orig. Now, ideally we will cache these rdds outside the function, as for any function call, we are using the same rdd. But as I have been losing marks in the previous assignment for doing any operations outside the function, I would rather be safe than sorry.\n",
    "So the way I cache the rdd in the function is first check if the original rdd already exists, if not, than create it and cache() it, similar with orig rdd. Since all other rdds are being updated in each iterations, then it would not make sense to cache any of those files.*\n",
    "\n",
    "\n"
   ]
  },
  {
   "cell_type": "markdown",
   "metadata": {},
   "source": [
    "---\n",
    "Don't forget to save your workbook!   When you are finished and you are ready to submit your assignment, download your notebook file (.ipynb) from the hub to your machine, and then follow the submission instructions in the assignment."
   ]
  }
 ],
 "metadata": {
  "kernelspec": {
   "display_name": "Python 3",
   "language": "python",
   "name": "python3"
  },
  "language_info": {
   "codemirror_mode": {
    "name": "ipython",
    "version": 3
   },
   "file_extension": ".py",
   "mimetype": "text/x-python",
   "name": "python",
   "nbconvert_exporter": "python",
   "pygments_lexer": "ipython3",
   "version": "3.6.8"
  }
 },
 "nbformat": 4,
 "nbformat_minor": 2
}
